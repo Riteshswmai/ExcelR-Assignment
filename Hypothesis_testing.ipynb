{
 "cells": [
  {
   "cell_type": "markdown",
   "metadata": {},
   "source": [
    "**HYPOTHESIS TESTING**"
   ]
  },
  {
   "cell_type": "markdown",
   "metadata": {},
   "source": [
    "\n",
    "Background:\n",
    "\n",
    "Bombay hospitality Ltd. operates a franchise model for producing exotic Norwegian dinners throughout New England. The operating cost for a franchise in a week (W) is given by the equation W = $1,000 + $5X, where X represents the number of units produced in a week. Recent feedback from restaurant owners suggests that this cost model may no longer be accurate, as their observed weekly operating costs are higher.\n",
    "\n",
    "Objective:\n",
    "\n",
    "To investigate the restaurant owners' claim about the increase in weekly operating costs using hypothesis testing.\n",
    "Data Provided:\n",
    "\n",
    "•\tThe theoretical weekly operating cost model: W = $1,000 + $5X\n",
    "•\tSample of 25 restaurants with a mean weekly cost of Rs. 3,050\n",
    "•\tNumber of units produced in a week (X) follows a normal distribution with a mean (μ) of 600 units and a standard deviation (σ) of 25 units\n",
    "\n",
    "Assignment Tasks:\n",
    "\n",
    "1. State the Hypotheses statement:\n",
    "\n",
    "2. Calculate the Test Statistic:\n",
    "\n",
    "Use the following formula to calculate the test statistic (t):\n",
    "where:\n",
    "\n",
    "•\tˉxˉ = sample mean weekly cost (Rs. 3,050)\n",
    "•\tμ = theoretical mean weekly cost according to the cost model (W = $1,000 + $5X for X = 600 units)\n",
    "•\tσ = 5*25 units\n",
    "•\tn = sample size (25 restaurants)\n",
    "\n",
    "3. Determine the Critical Value:\n",
    "\n",
    "Using the alpha level of 5% (α = 0.05), determine the critical value from the standard normal (Z) distribution table.\n",
    "\n",
    "4. Make a Decision:\n",
    "\n",
    "Compare the test statistic with the critical value to decide whether to reject the null hypothesis.\n",
    "\n",
    "5. Conclusion:\n",
    "\n",
    "Based on the decision in step 4, conclude whether there is strong evidence to support the restaurant owners' claim that the weekly operating costs are higher than the model suggests.\n",
    "\n",
    "Submission Guidelines:\n",
    "\n",
    "•\tPrepare python file detailing each step of your hypothesis testing process.\n",
    "•\tInclude calculations for the test statistic and the critical value.\n",
    "•\tProvide a clear conclusion based on your analysis.\n",
    "\n"
   ]
  },
  {
   "cell_type": "code",
   "execution_count": null,
   "metadata": {},
   "outputs": [],
   "source": []
  },
  {
   "cell_type": "markdown",
   "metadata": {},
   "source": [
    "1. State the Hypotheses\n",
    "\n",
    "Null Hypothesis (𝐻0): The mean weekly operating cost for the franchise is equal to the theoretical cost, i.e.,𝜇=1000+5⋅600.\n",
    "\n",
    "Alternative Hypothesis (𝐻𝐴): The mean weekly operating cost for the franchise is higher than the theoretical cost, i.e.,𝜇>1000+5⋅600."
   ]
  },
  {
   "cell_type": "code",
   "execution_count": null,
   "metadata": {},
   "outputs": [],
   "source": []
  },
  {
   "cell_type": "markdown",
   "metadata": {},
   "source": [
    "2. Calculate the Test Statistic\n",
    "\n",
    "The theoretical weekly operating cost 𝜇0 is calculated as:\n",
    "\n",
    "𝜇0=1000+5⋅600=4000\n",
    "\n",
    "Next, we calculate the test statistic 𝑡 using the formula:  \n",
    "\n",
    " $$ 𝑡= { 𝑥ˉ − 𝜇0 \\over  𝜎/√𝑛 } $$\n",
    "\n",
    "where:\n",
    "\n",
    "𝑥ˉ = sample mean weekly cost (Rs. 3050)\n",
    "\n",
    "𝜇0 = theoretical mean weekly cost (Rs. 4000)\n",
    "\n",
    "𝜎=5⋅25=125 (since the standard deviation of the number of units produced is 25 and each unit adds $5 to the cost)\n",
    "\n",
    "𝑛 = sample size (25 restaurants)\n",
    "\n",
    "Let's plug in the values:\n",
    "\n",
    "$$t = \\frac{3050 - 4000}{125 / \\sqrt{25}} = \\frac{-950}{125/5} = \\frac{-950}{25} = -38$$"
   ]
  },
  {
   "cell_type": "code",
   "execution_count": null,
   "metadata": {},
   "outputs": [],
   "source": []
  },
  {
   "cell_type": "markdown",
   "metadata": {},
   "source": [
    "3. Determine the Critical Value\n",
    "\n",
    "For a significance level (alpha) of 0.05 in a one-tailed test, the critical value from the standard normal (Z) distribution is:"
   ]
  },
  {
   "cell_type": "code",
   "execution_count": 1,
   "metadata": {},
   "outputs": [
    {
     "name": "stdout",
     "output_type": "stream",
     "text": [
      "Critical Value: 1.6448536269514722\n"
     ]
    }
   ],
   "source": [
    "from scipy.stats import norm\n",
    "\n",
    "alpha = 0.05\n",
    "critical_value = norm.ppf(1 - alpha)\n",
    "print(f\"Critical Value: {critical_value}\")\n"
   ]
  },
  {
   "cell_type": "code",
   "execution_count": null,
   "metadata": {},
   "outputs": [],
   "source": []
  },
  {
   "cell_type": "markdown",
   "metadata": {},
   "source": [
    "4. Make a Decision\n",
    "Compare the test statistic with the critical value:\n",
    "\n",
    "If 𝑡  is less than the negative of the critical value, we reject the null hypothesis.\n",
    "\n",
    "If 𝑡  is greater than or equal to the negative of the critical value, we fail to reject the null hypothesis.\n",
    "\n",
    "**Since 𝑡 = −38 and the critical value is 1.645 , we reject the null hypothesis because −38<−1.645.**"
   ]
  },
  {
   "cell_type": "code",
   "execution_count": null,
   "metadata": {},
   "outputs": [],
   "source": []
  },
  {
   "cell_type": "markdown",
   "metadata": {},
   "source": [
    "5. Conclusion\n",
    "\n",
    "Based on the analysis, we reject the null hypothesis and conclude that there is strong evidence to support the restaurant owners' claim that the weekly operating costs are higher than the theoretical cost model suggests."
   ]
  },
  {
   "cell_type": "code",
   "execution_count": 2,
   "metadata": {},
   "outputs": [
    {
     "name": "stdout",
     "output_type": "stream",
     "text": [
      "Test Statistic: -38.0\n",
      "Critical Value: 1.6448536269514722\n",
      "Reject the null hypothesis - There is strong evidence to support the restaurant owners' claim.\n"
     ]
    }
   ],
   "source": [
    "import numpy as np\n",
    "from scipy.stats import norm\n",
    "\n",
    "# Given data\n",
    "sample_mean = 3050\n",
    "theoretical_mean = 4000\n",
    "std_dev = 5 * 25\n",
    "n = 25\n",
    "\n",
    "# Calculate the test statistic\n",
    "t = (sample_mean - theoretical_mean) / (std_dev / np.sqrt(n))\n",
    "print(f\"Test Statistic: {t}\")\n",
    "\n",
    "# Determine the critical value\n",
    "alpha = 0.05\n",
    "critical_value = norm.ppf(1 - alpha)\n",
    "print(f\"Critical Value: {critical_value}\")\n",
    "\n",
    "# Conclusion\n",
    "if t < -critical_value:\n",
    "    conclusion = \"Reject the null hypothesis - There is strong evidence to support the restaurant owners' claim.\"\n",
    "else:\n",
    "    conclusion = \"Fail to reject the null hypothesis - There is no strong evidence to support the restaurant owners' claim.\"\n",
    "\n",
    "print(conclusion)\n"
   ]
  }
 ],
 "metadata": {
  "kernelspec": {
   "display_name": "Python 3",
   "language": "python",
   "name": "python3"
  },
  "language_info": {
   "codemirror_mode": {
    "name": "ipython",
    "version": 3
   },
   "file_extension": ".py",
   "mimetype": "text/x-python",
   "name": "python",
   "nbconvert_exporter": "python",
   "pygments_lexer": "ipython3",
   "version": "3.12.3"
  }
 },
 "nbformat": 4,
 "nbformat_minor": 2
}
