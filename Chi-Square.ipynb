{
 "cells": [
  {
   "cell_type": "markdown",
   "metadata": {},
   "source": [
    "**CHI-SQUARE TEST**"
   ]
  },
  {
   "cell_type": "markdown",
   "metadata": {},
   "source": [
    "\n",
    "Association between Device Type and Customer Satisfaction\n",
    "\n",
    "Background:\n",
    "\n",
    "Mizzare Corporation has collected data on customer satisfaction levels for two types of smart home devices: Smart Thermostats and Smart Lights. They want to determine if there's a significant association between the type of device purchased and the customer's satisfaction level.\n",
    "\n",
    "Data Provided:\n",
    "\n",
    "The data is summarized in a contingency table showing the counts of customers in each satisfaction level for both types of devices:\n",
    "\n",
    "|Satisfaction\t| Smart Thermostat |\tSmart Light\tTotal |\n",
    "|:------------ |:------------ |:------------ |\n",
    "|Very Satisfied\t| 50\t| 70\t| 120 |\n",
    "|Satisfied\t| 80 |\t100 |\t180|\n",
    "|Neutral\t| 60\t| 90\t| 150 |\n",
    "|Unsatisfied |\t30\t |50\t| 80 |\n",
    "|Very Unsatisfied\t| 20\t|50\t|70 |\n",
    "|Total\t|240\t|360\t| 600|\n",
    "\n",
    "\n",
    "Objective:\n",
    "To use the Chi-Square test for independence to determine if there's a significant association between the type of smart home device purchased (Smart Thermostats vs. Smart Lights) and the customer satisfaction level.\n",
    "Assignment Tasks:\n",
    "1. State the Hypotheses:\n",
    "2. Compute the Chi-Square Statistic:\n",
    "3. Determine the Critical Value:\n",
    "Using the significance level (alpha) of 0.05 and the degrees of freedom (which is the number of categories minus 1)\n",
    "\n",
    "4. Make a Decision:\n",
    "\n",
    "Compare the Chi-Square statistic with the critical value to decide whether to reject the null hypothesis.\n",
    "\n",
    "Submission Guidelines:\n",
    "\n",
    "•\tProvide a detailed report of your analysis, including each step outlined in the assignment tasks in a python file.\n",
    "\n",
    "•\tInclude all calculations, the Chi-Square statistic, the critical value, and your conclusion.\n"
   ]
  },
  {
   "cell_type": "code",
   "execution_count": null,
   "metadata": {},
   "outputs": [],
   "source": []
  },
  {
   "cell_type": "markdown",
   "metadata": {},
   "source": [
    "1. State the Hypotheses:\n",
    "\n",
    "\n",
    "Null Hypothesis (\n",
    "𝐻\n",
    "0\n",
    "): There is no significant association between the type of smart home device purchased and the customer satisfaction level.\n",
    "\n",
    "Alternative Hypothesis (\n",
    "𝐻\n",
    "𝐴\n",
    "): There is a significant association between the type of smart home device purchased and the customer satisfaction level."
   ]
  },
  {
   "cell_type": "code",
   "execution_count": null,
   "metadata": {},
   "outputs": [],
   "source": []
  },
  {
   "cell_type": "markdown",
   "metadata": {},
   "source": [
    "2. Compute the Chi-Square Statistic:\n",
    "\n",
    "We'll calculate the chi-square statistic using the observed frequencies from the contingency table and the expected frequencies."
   ]
  },
  {
   "cell_type": "code",
   "execution_count": 1,
   "metadata": {},
   "outputs": [
    {
     "name": "stdout",
     "output_type": "stream",
     "text": [
      "Chi-Square Statistic: 5.638227513227513\n",
      "P-value: 0.22784371130697179\n",
      "Degrees of Freedom: 4\n",
      "Expected Frequencies:\n",
      " [[ 48.  72.]\n",
      " [ 72. 108.]\n",
      " [ 60.  90.]\n",
      " [ 32.  48.]\n",
      " [ 28.  42.]]\n"
     ]
    }
   ],
   "source": [
    "import numpy as np\n",
    "import pandas as pd\n",
    "from scipy.stats import chi2_contingency\n",
    "\n",
    "# Observed frequencies\n",
    "data = np.array([[50, 70],\n",
    "                 [80, 100],\n",
    "                 [60, 90],\n",
    "                 [30, 50],\n",
    "                 [20, 50]])\n",
    "\n",
    "# Create a DataFrame for better visualization\n",
    "df = pd.DataFrame(data, columns=['Smart Thermostat', 'Smart Light'],\n",
    "                  index=['Very Satisfied', 'Satisfied', 'Neutral', 'Unsatisfied', 'Very Unsatisfied'])\n",
    "\n",
    "# Perform the Chi-Square test\n",
    "chi2, p, dof, expected = chi2_contingency(df)\n",
    "\n",
    "print(f\"Chi-Square Statistic: {chi2}\")\n",
    "print(f\"P-value: {p}\")\n",
    "print(f\"Degrees of Freedom: {dof}\")\n",
    "print(\"Expected Frequencies:\\n\", expected)\n"
   ]
  },
  {
   "cell_type": "markdown",
   "metadata": {},
   "source": [
    "3. Determine the Critical Value:\n",
    "\n",
    "Using a significance level (alpha) of 0.05 and the degrees of freedom (𝑑𝑓), we can find the critical value from the chi-square distribution table. The degrees of freedom for this test are calculated as:\n",
    "\n",
    "df =(𝑟−1)×(𝑐−1)\n",
    "\n",
    "where 𝑟 is the number of rows, and 𝑐 is the number of columns.\n",
    "\n",
    "For our data:\n",
    "\n",
    "df = (5−1)×(2−1)=4\n",
    "\n",
    "At alpha = 0.05 and df = 4, the critical value can be looked up in a chi-square distribution table."
   ]
  },
  {
   "cell_type": "code",
   "execution_count": 2,
   "metadata": {},
   "outputs": [
    {
     "name": "stdout",
     "output_type": "stream",
     "text": [
      "Critical Value: 9.487729036781154\n"
     ]
    }
   ],
   "source": [
    "from scipy.stats import chi2\n",
    "\n",
    "alpha = 0.05\n",
    "critical_value = chi2.ppf(1 - alpha, dof)\n",
    "print(f\"Critical Value: {critical_value}\")\n"
   ]
  },
  {
   "cell_type": "markdown",
   "metadata": {},
   "source": [
    "4. Make a Decision:\n",
    "\n",
    "Compare the Chi-Square statistic to the critical value.\n",
    "\n",
    "- If the Chi-Square statistic is greater than the critical value, we reject the null hypothesis.\n",
    "\n",
    "- If the Chi-Square statistic is less than or equal to the critical value, we fail to reject the null hypothesis."
   ]
  },
  {
   "cell_type": "code",
   "execution_count": 3,
   "metadata": {},
   "outputs": [
    {
     "name": "stdout",
     "output_type": "stream",
     "text": [
      "Chi-Square Statistic: 5.638227513227513\n",
      "P-value: 0.22784371130697179\n",
      "Degrees of Freedom: 4\n",
      "Expected Frequencies:\n",
      " [[ 48.  72.]\n",
      " [ 72. 108.]\n",
      " [ 60.  90.]\n",
      " [ 32.  48.]\n",
      " [ 28.  42.]]\n",
      "Critical Value: 9.487729036781154\n",
      "Fail to reject the null hypothesis - No significant association between the type of device and customer satisfaction level.\n"
     ]
    }
   ],
   "source": [
    "import numpy as np\n",
    "import pandas as pd\n",
    "from scipy.stats import chi2_contingency, chi2\n",
    "\n",
    "# Observed frequencies\n",
    "data = np.array([[50, 70],\n",
    "                 [80, 100],\n",
    "                 [60, 90],\n",
    "                 [30, 50],\n",
    "                 [20, 50]])\n",
    "\n",
    "# Create a DataFrame for better visualization\n",
    "df = pd.DataFrame(data, columns=['Smart Thermostat', 'Smart Light'],\n",
    "                  index=['Very Satisfied', 'Satisfied', 'Neutral', 'Unsatisfied', 'Very Unsatisfied'])\n",
    "\n",
    "# Perform the Chi-Square test\n",
    "chi2_stat, p, dof, expected = chi2_contingency(df)\n",
    "\n",
    "# Calculate the critical value\n",
    "alpha = 0.05\n",
    "critical_value = chi2.ppf(1 - alpha, dof)\n",
    "\n",
    "# Print results\n",
    "print(f\"Chi-Square Statistic: {chi2_stat}\")\n",
    "print(f\"P-value: {p}\")\n",
    "print(f\"Degrees of Freedom: {dof}\")\n",
    "print(\"Expected Frequencies:\\n\", expected)\n",
    "print(f\"Critical Value: {critical_value}\")\n",
    "\n",
    "# Conclusion\n",
    "if chi2_stat > critical_value:\n",
    "    print(\"Reject the null hypothesis - There is a significant association between the type of device and customer satisfaction level.\")\n",
    "else:\n",
    "    print(\"Fail to reject the null hypothesis - No significant association between the type of device and customer satisfaction level.\")\n"
   ]
  },
  {
   "cell_type": "code",
   "execution_count": null,
   "metadata": {},
   "outputs": [],
   "source": []
  }
 ],
 "metadata": {
  "kernelspec": {
   "display_name": "Python 3",
   "language": "python",
   "name": "python3"
  },
  "language_info": {
   "codemirror_mode": {
    "name": "ipython",
    "version": 3
   },
   "file_extension": ".py",
   "mimetype": "text/x-python",
   "name": "python",
   "nbconvert_exporter": "python",
   "pygments_lexer": "ipython3",
   "version": "3.12.3"
  }
 },
 "nbformat": 4,
 "nbformat_minor": 2
}
